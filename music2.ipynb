{
 "cells": [
  {
   "cell_type": "code",
   "execution_count": null,
   "metadata": {
    "_cell_guid": "b1076dfc-b9ad-4769-8c92-a6c4dae69d19",
    "_uuid": "8f2839f25d086af736a60e9eeb907d3b93b6e0e5",
    "execution": {
     "iopub.execute_input": "2024-06-29T06:35:47.375593Z",
     "iopub.status.busy": "2024-06-29T06:35:47.375116Z",
     "iopub.status.idle": "2024-06-29T06:35:47.591044Z",
     "shell.execute_reply": "2024-06-29T06:35:47.589523Z",
     "shell.execute_reply.started": "2024-06-29T06:35:47.375556Z"
    },
    "trusted": true
   },
   "outputs": [
    {
     "name": "stdout",
     "output_type": "stream",
     "text": [
      "Access token obtained successfully.\n"
     ]
    }
   ],
   "source": [
    "import requests\n",
    "import base64\n",
    "\n",
    "# Replace with your own Client ID and Client Secret\n",
    "CLIENT_ID = 'Your_id'\n",
    "CLIENT_SECRET = 'Your_secret'\n",
    "\n",
    "# Base64 encode the client ID and client secret\n",
    "client_credentials = f\"{CLIENT_ID}:{CLIENT_SECRET}\"\n",
    "client_credentials_base64 = base64.b64encode(client_credentials.encode())\n",
    "\n",
    "# Request the access token\n",
    "token_url = 'https://accounts.spotify.com/api/token'\n",
    "headers = {\n",
    "    'Authorization': f'Basic {client_credentials_base64.decode()}'\n",
    "}\n",
    "data = {\n",
    "    'grant_type': 'client_credentials'\n",
    "}\n",
    "response = requests.post(token_url, data=data, headers=headers)\n",
    "\n",
    "if response.status_code == 200:\n",
    "    access_token = response.json()['access_token']\n",
    "    print(\"Access token obtained successfully.\")\n",
    "else:\n",
    "    print(\"Error obtaining access token.\")\n",
    "    exit()"
   ]
  },
  {
   "cell_type": "code",
   "execution_count": 3,
   "metadata": {
    "execution": {
     "iopub.execute_input": "2024-06-29T06:35:57.657981Z",
     "iopub.status.busy": "2024-06-29T06:35:57.657058Z",
     "iopub.status.idle": "2024-06-29T06:36:14.668463Z",
     "shell.execute_reply": "2024-06-29T06:36:14.667204Z",
     "shell.execute_reply.started": "2024-06-29T06:35:57.657925Z"
    },
    "trusted": true
   },
   "outputs": [
    {
     "name": "stdout",
     "output_type": "stream",
     "text": [
      "Collecting spotipy\n",
      "  Downloading spotipy-2.24.0-py3-none-any.whl.metadata (4.9 kB)\n",
      "Collecting redis>=3.5.3 (from spotipy)\n",
      "  Downloading redis-5.0.7-py3-none-any.whl.metadata (9.3 kB)\n",
      "Requirement already satisfied: requests>=2.25.0 in /opt/conda/lib/python3.10/site-packages (from spotipy) (2.32.3)\n",
      "Requirement already satisfied: urllib3>=1.26.0 in /opt/conda/lib/python3.10/site-packages (from spotipy) (1.26.18)\n",
      "Requirement already satisfied: async-timeout>=4.0.3 in /opt/conda/lib/python3.10/site-packages (from redis>=3.5.3->spotipy) (4.0.3)\n",
      "Requirement already satisfied: charset-normalizer<4,>=2 in /opt/conda/lib/python3.10/site-packages (from requests>=2.25.0->spotipy) (3.3.2)\n",
      "Requirement already satisfied: idna<4,>=2.5 in /opt/conda/lib/python3.10/site-packages (from requests>=2.25.0->spotipy) (3.6)\n",
      "Requirement already satisfied: certifi>=2017.4.17 in /opt/conda/lib/python3.10/site-packages (from requests>=2.25.0->spotipy) (2024.2.2)\n",
      "Downloading spotipy-2.24.0-py3-none-any.whl (30 kB)\n",
      "Downloading redis-5.0.7-py3-none-any.whl (252 kB)\n",
      "\u001b[2K   \u001b[90m━━━━━━━━━━━━━━━━━━━━━━━━━━━━━━━━━━━━━━━━\u001b[0m \u001b[32m252.1/252.1 kB\u001b[0m \u001b[31m8.4 MB/s\u001b[0m eta \u001b[36m0:00:00\u001b[0m\n",
      "\u001b[?25hInstalling collected packages: redis, spotipy\n",
      "Successfully installed redis-5.0.7 spotipy-2.24.0\n"
     ]
    }
   ],
   "source": [
    "!pip install spotipy"
   ]
  },
  {
   "cell_type": "code",
   "execution_count": 4,
   "metadata": {
    "execution": {
     "iopub.execute_input": "2024-06-29T06:36:17.516600Z",
     "iopub.status.busy": "2024-06-29T06:36:17.516077Z",
     "iopub.status.idle": "2024-06-29T06:36:17.624751Z",
     "shell.execute_reply": "2024-06-29T06:36:17.623489Z",
     "shell.execute_reply.started": "2024-06-29T06:36:17.516552Z"
    },
    "trusted": true
   },
   "outputs": [],
   "source": [
    "import pandas as pd\n",
    "import spotipy\n",
    "from spotipy.oauth2 import SpotifyOAuth\n",
    "\n",
    "def get_trending_playlist_data(playlist_id, access_token):\n",
    "    # Set up Spotipy with the access token\n",
    "    sp = spotipy.Spotify(auth=access_token)\n",
    "\n",
    "    # Get the tracks from the playlist\n",
    "    playlist_tracks = sp.playlist_tracks(playlist_id, fields='items(track(id, name, artists, album(id, name)))')\n",
    "\n",
    "    # Extract relevant information and store in a list of dictionaries\n",
    "    music_data = []\n",
    "    for track_info in playlist_tracks['items']:\n",
    "        track = track_info['track']\n",
    "        track_name = track['name']\n",
    "        artists = ', '.join([artist['name'] for artist in track['artists']])\n",
    "        album_name = track['album']['name']\n",
    "        album_id = track['album']['id']\n",
    "        track_id = track['id']\n",
    "\n",
    "        # Get audio features for the track\n",
    "        audio_features = sp.audio_features(track_id)[0] if track_id != 'Not available' else None\n",
    "\n",
    "        # Get release date of the album\n",
    "        try:\n",
    "            album_info = sp.album(album_id) if album_id != 'Not available' else None\n",
    "            release_date = album_info['release_date'] if album_info else None\n",
    "        except:\n",
    "            release_date = None\n",
    "\n",
    "        # Get popularity of the track\n",
    "        try:\n",
    "            track_info = sp.track(track_id) if track_id != 'Not available' else None\n",
    "            popularity = track_info['popularity'] if track_info else None\n",
    "        except:\n",
    "            popularity = None\n",
    "\n",
    "        # Add additional track information to the track data\n",
    "        track_data = {\n",
    "            'Track Name': track_name,\n",
    "            'Artists': artists,\n",
    "            'Album Name': album_name,\n",
    "            'Album ID': album_id,\n",
    "            'Track ID': track_id,\n",
    "            'Popularity': popularity,\n",
    "            'Release Date': release_date,\n",
    "            'Duration (ms)': audio_features['duration_ms'] if audio_features else None,\n",
    "            'Explicit': track_info.get('explicit', None),\n",
    "            'External URLs': track_info.get('external_urls', {}).get('spotify', None),\n",
    "            'Danceability': audio_features['danceability'] if audio_features else None,\n",
    "            'Energy': audio_features['energy'] if audio_features else None,\n",
    "            'Key': audio_features['key'] if audio_features else None,\n",
    "            'Loudness': audio_features['loudness'] if audio_features else None,\n",
    "            'Mode': audio_features['mode'] if audio_features else None,\n",
    "            'Speechiness': audio_features['speechiness'] if audio_features else None,\n",
    "            'Acousticness': audio_features['acousticness'] if audio_features else None,\n",
    "            'Instrumentalness': audio_features['instrumentalness'] if audio_features else None,\n",
    "            'Liveness': audio_features['liveness'] if audio_features else None,\n",
    "            'Valence': audio_features['valence'] if audio_features else None,\n",
    "            'Tempo': audio_features['tempo'] if audio_features else None,\n",
    "            # Add more attributes as needed\n",
    "        }\n",
    "\n",
    "        music_data.append(track_data)\n",
    "\n",
    "    # Create a pandas DataFrame from the list of dictionaries\n",
    "    df = pd.DataFrame(music_data)\n",
    "\n",
    "    return df"
   ]
  },
  {
   "cell_type": "code",
   "execution_count": 5,
   "metadata": {
    "execution": {
     "iopub.execute_input": "2024-06-29T06:36:27.178527Z",
     "iopub.status.busy": "2024-06-29T06:36:27.178086Z",
     "iopub.status.idle": "2024-06-29T06:36:52.373705Z",
     "shell.execute_reply": "2024-06-29T06:36:52.372232Z",
     "shell.execute_reply.started": "2024-06-29T06:36:27.178494Z"
    },
    "trusted": true
   },
   "outputs": [
    {
     "name": "stdout",
     "output_type": "stream",
     "text": [
      "           Track Name                      Artists  \\\n",
      "0   Poovullo Daagunna        Unnikrishnan, Sujatha   \n",
      "1     Cheliya Cheliya                 KK, Suchitra   \n",
      "2     Cheliya Cheliya  Anirudh Ravichander,Ranjith   \n",
      "3       Alanai Neekai    A.R. Rahman, Antara Nandy   \n",
      "4      Pachchadanamey    Hariharan, Clinton Cerejo   \n",
      "..                ...                          ...   \n",
      "95        Endhuko Emo     Aalaap Raju, Prasanthini   \n",
      "96          Ghal Ghal       S. P. Balasubrahmanyam   \n",
      "97        Evare Nuvvu           Harish Raghavendra   \n",
      "98   Sankurathri Kodi      Madhushree, A.R. Rahman   \n",
      "99        Nenu Nenuga                  S.P. Charan   \n",
      "\n",
      "                                           Album Name                Album ID  \\\n",
      "0                                               Jeans  5CcuoUl0yhFPRLMohxwvIt   \n",
      "1                                          Gharshanaa  1UjRLzKzCJqmrZK9Drt6Zx   \n",
      "2   Nenu Rowdy Ne (Original Motion Picture Soundtr...  5JP6YD8lXSQWhcfiuIu3XM   \n",
      "3   PS-1 (Telugu) [Original Motion Picture Soundtr...  7blW9PaHTJc7WOKKIWvctP   \n",
      "4                                               Sakhi  0x25Nwzk4BVwlUaZq5Hczu   \n",
      "..                                                ...                     ...   \n",
      "95                                             Rangam  3rpmVMH5kV6jYkzSmlpn5u   \n",
      "96                         Nuvvostanante Nenoddantana  5I3dEH9cXdYmo8MVIdOkxO   \n",
      "97                                           Rajubhai  7IeNvR1LQ1Z8sWM8KaAB2O   \n",
      "98                                               Yuva  5U5RVTmAcY6BK39u5TWTa5   \n",
      "99                                         Manmadhudu  2aNP8WRBq1cUgP4hvblCVa   \n",
      "\n",
      "                  Track ID  Popularity Release Date  Duration (ms)  Explicit  \\\n",
      "0   4M8dRVFWKMfh7hPzGCYxra          50   1999-10-30         415504     False   \n",
      "1   0anBHV3eP4hiHsLQR5AZsm          52   2004-06-19         319725     False   \n",
      "2   1aVGNlx8y38bXlhJOjwlZx           0   2016-01-18         267672     False   \n",
      "3   4UbJjYPsF1YrTRcyU1KMmX           0   2022-09-07         314378     False   \n",
      "4   5eQYzdcEDOhvJ4ClsUQB3C          52   2000-12-31         361667     False   \n",
      "..                     ...         ...          ...            ...       ...   \n",
      "95  6Yqw4HtJuFXleJtgzYXWzT          56   2011-04-09         330505     False   \n",
      "96  69PuGOoNWxd2hM0tsrCa2O          51   2005-01-14         319564     False   \n",
      "97  7m64tTau2Rh6hzVDA1oV6K          55   2007-05-18         250867     False   \n",
      "98  3N7Vi045qX4763rTZoVApW          44   2004-03-13         294680     False   \n",
      "99  1GIX3Z78P6PJg8srUYAqjF          53         2002         234920     False   \n",
      "\n",
      "                                        External URLs  ...  Energy  Key  \\\n",
      "0   https://open.spotify.com/track/4M8dRVFWKMfh7hP...  ...   0.642    7   \n",
      "1   https://open.spotify.com/track/0anBHV3eP4hiHsL...  ...   0.911   11   \n",
      "2   https://open.spotify.com/track/1aVGNlx8y38bXlh...  ...   0.885    2   \n",
      "3   https://open.spotify.com/track/4UbJjYPsF1YrTRc...  ...   0.337    2   \n",
      "4   https://open.spotify.com/track/5eQYzdcEDOhvJ4C...  ...   0.328    1   \n",
      "..                                                ...  ...     ...  ...   \n",
      "95  https://open.spotify.com/track/6Yqw4HtJuFXleJt...  ...   0.629    7   \n",
      "96  https://open.spotify.com/track/69PuGOoNWxd2hM0...  ...   0.715    2   \n",
      "97  https://open.spotify.com/track/7m64tTau2Rh6hzV...  ...   0.696   10   \n",
      "98  https://open.spotify.com/track/3N7Vi045qX4763r...  ...   0.404    7   \n",
      "99  https://open.spotify.com/track/1GIX3Z78P6PJg8s...  ...   0.497    2   \n",
      "\n",
      "    Loudness  Mode  Speechiness  Acousticness  Instrumentalness  Liveness  \\\n",
      "0     -5.683     1       0.0324        0.3050          0.000000    0.1280   \n",
      "1     -6.709     0       0.0888        0.2620          0.000000    0.3660   \n",
      "2     -6.703     1       0.0591        0.4180          0.000000    0.1010   \n",
      "3     -9.566     1       0.0359        0.9590          0.000088    0.0660   \n",
      "4    -18.843     0       0.0647        0.3870          0.000099    0.3670   \n",
      "..       ...   ...          ...           ...               ...       ...   \n",
      "95    -5.135     0       0.0357        0.0577          0.000192    0.1780   \n",
      "96    -7.592     1       0.1190        0.1420          0.000003    0.3720   \n",
      "97    -6.243     1       0.0363        0.1220          0.000000    0.1040   \n",
      "98    -8.639     0       0.1040        0.0512          0.000000    0.0811   \n",
      "99    -9.088     0       0.0429        0.3580          0.000022    0.1240   \n",
      "\n",
      "    Valence    Tempo  \n",
      "0     0.368  103.986  \n",
      "1     0.756  135.494  \n",
      "2     0.630  100.017  \n",
      "3     0.235  149.511  \n",
      "4     0.546  175.975  \n",
      "..      ...      ...  \n",
      "95    0.703   91.006  \n",
      "96    0.495  101.986  \n",
      "97    0.521  119.960  \n",
      "98    0.289  176.023  \n",
      "99    0.480   81.503  \n",
      "\n",
      "[100 rows x 21 columns]\n",
      "Track Name          0\n",
      "Artists             0\n",
      "Album Name          0\n",
      "Album ID            0\n",
      "Track ID            0\n",
      "Popularity          0\n",
      "Release Date        0\n",
      "Duration (ms)       0\n",
      "Explicit            0\n",
      "External URLs       0\n",
      "Danceability        0\n",
      "Energy              0\n",
      "Key                 0\n",
      "Loudness            0\n",
      "Mode                0\n",
      "Speechiness         0\n",
      "Acousticness        0\n",
      "Instrumentalness    0\n",
      "Liveness            0\n",
      "Valence             0\n",
      "Tempo               0\n",
      "dtype: int64\n"
     ]
    }
   ],
   "source": [
    "playlist_id = '1r8V9g47ADGZD6dwxtkXun' #That's the top 100 popular songs on Spotify\n",
    "\n",
    "# Call the function to get the music data from the playlist and store it in a DataFrame\n",
    "music_df = get_trending_playlist_data(playlist_id, access_token)\n",
    "\n",
    "# Display the DataFrame\n",
    "print(music_df)\n",
    "\n",
    "print(music_df.isnull().sum())"
   ]
  },
  {
   "cell_type": "code",
   "execution_count": 6,
   "metadata": {
    "execution": {
     "iopub.execute_input": "2024-06-29T06:37:18.428396Z",
     "iopub.status.busy": "2024-06-29T06:37:18.427455Z",
     "iopub.status.idle": "2024-06-29T06:37:19.251856Z",
     "shell.execute_reply": "2024-06-29T06:37:19.250649Z",
     "shell.execute_reply.started": "2024-06-29T06:37:18.428356Z"
    },
    "trusted": true
   },
   "outputs": [],
   "source": [
    "import pandas as pd\n",
    "import numpy as np\n",
    "from sklearn.model_selection import train_test_split\n",
    "from sklearn.preprocessing import MinMaxScaler\n",
    "from datetime import datetime\n",
    "from sklearn.metrics.pairwise import cosine_similarity\n",
    "\n",
    "data = music_df"
   ]
  },
  {
   "cell_type": "code",
   "execution_count": 7,
   "metadata": {
    "execution": {
     "iopub.execute_input": "2024-06-29T06:37:25.903204Z",
     "iopub.status.busy": "2024-06-29T06:37:25.902809Z",
     "iopub.status.idle": "2024-06-29T06:37:25.909983Z",
     "shell.execute_reply": "2024-06-29T06:37:25.908824Z",
     "shell.execute_reply.started": "2024-06-29T06:37:25.903175Z"
    },
    "trusted": true
   },
   "outputs": [],
   "source": [
    "# Function to calculate weighted popularity scores based on release date\n",
    "def calculate_weighted_popularity(release_date):\n",
    "    # Convert the release date to datetime object\n",
    "    release_date = datetime.strptime(release_date, '%Y-%m-%d')\n",
    "\n",
    "    # Calculate the time span between release date and today's date\n",
    "    time_span = datetime.now() - release_date\n",
    "\n",
    "    # Calculate the weighted popularity score based on time span (e.g., more recent releases have higher weight)\n",
    "    weight = 1 / (time_span.days + 1)\n",
    "    return weight"
   ]
  },
  {
   "cell_type": "code",
   "execution_count": 8,
   "metadata": {
    "execution": {
     "iopub.execute_input": "2024-06-29T06:37:30.170164Z",
     "iopub.status.busy": "2024-06-29T06:37:30.169416Z",
     "iopub.status.idle": "2024-06-29T06:37:30.178361Z",
     "shell.execute_reply": "2024-06-29T06:37:30.177214Z",
     "shell.execute_reply.started": "2024-06-29T06:37:30.170125Z"
    },
    "trusted": true
   },
   "outputs": [],
   "source": [
    "# Normalize the music features using Min-Max scaling\n",
    "scaler = MinMaxScaler()\n",
    "music_features = music_df[['Danceability', 'Energy', 'Key', \n",
    "                           'Loudness', 'Mode', 'Speechiness', 'Acousticness',\n",
    "                           'Instrumentalness', 'Liveness', 'Valence', 'Tempo']].values\n",
    "music_features_scaled = scaler.fit_transform(music_features)\n"
   ]
  },
  {
   "cell_type": "code",
   "execution_count": 9,
   "metadata": {
    "execution": {
     "iopub.execute_input": "2024-06-29T06:37:34.448956Z",
     "iopub.status.busy": "2024-06-29T06:37:34.448522Z",
     "iopub.status.idle": "2024-06-29T06:37:34.457641Z",
     "shell.execute_reply": "2024-06-29T06:37:34.456167Z",
     "shell.execute_reply.started": "2024-06-29T06:37:34.448922Z"
    },
    "trusted": true
   },
   "outputs": [],
   "source": [
    "# a function to get content-based recommendations based on music features\n",
    "def content_based_recommendations(input_song_name, num_recommendations=5):\n",
    "    if input_song_name not in music_df['Track Name'].values:\n",
    "        print(f\"'{input_song_name}' not found in the dataset. Please enter a valid song name.\")\n",
    "        return\n",
    "\n",
    "    # Get the index of the input song in the music DataFrame\n",
    "    input_song_index = music_df[music_df['Track Name'] == input_song_name].index[0]\n",
    "\n",
    "    # Calculate the similarity scores based on music features (cosine similarity)\n",
    "    similarity_scores = cosine_similarity([music_features_scaled[input_song_index]], music_features_scaled)\n",
    "\n",
    "    # Get the indices of the most similar songs\n",
    "    similar_song_indices = similarity_scores.argsort()[0][::-1][1:num_recommendations + 1]\n",
    "\n",
    "    # Get the names of the most similar songs based on content-based filtering\n",
    "    content_based_recommendations = music_df.iloc[similar_song_indices][['Track Name', 'Artists', 'Album Name', 'Release Date', 'Popularity']]\n",
    "\n",
    "    return content_based_recommendations"
   ]
  },
  {
   "cell_type": "code",
   "execution_count": 27,
   "metadata": {
    "execution": {
     "iopub.execute_input": "2024-06-29T07:28:14.461097Z",
     "iopub.status.busy": "2024-06-29T07:28:14.460578Z",
     "iopub.status.idle": "2024-06-29T07:28:14.473178Z",
     "shell.execute_reply": "2024-06-29T07:28:14.471848Z",
     "shell.execute_reply.started": "2024-06-29T07:28:14.461060Z"
    },
    "trusted": true
   },
   "outputs": [],
   "source": [
    "def hybrid_recommendations(input_song_name, num_recommendations=5, alpha=0.5):\n",
    "    if input_song_name not in music_df['Track Name'].values:\n",
    "        print(f\"'{input_song_name}' not found in the Playlist. Please enter a valid song name.\")\n",
    "        return\n",
    "\n",
    "    # Get content-based recommendations\n",
    "    content_based_rec = content_based_recommendations(input_song_name, num_recommendations)\n",
    "\n",
    "    # Get the popularity score of the input song\n",
    "    popularity_score = music_df.loc[music_df['Track Name'] == input_song_name, 'Popularity'].values[0]\n",
    "\n",
    "    # Calculate the weighted popularity score\n",
    "    weighted_popularity_score = popularity_score * calculate_weighted_popularity(music_df.loc[music_df['Track Name'] == input_song_name, 'Release Date'].values[0])\n",
    "\n",
    "    # Create a DataFrame for the input song\n",
    "    input_song_data = {\n",
    "        'Track Name': [input_song_name],\n",
    "        'Artists': [music_df.loc[music_df['Track Name'] == input_song_name, 'Artists'].values[0]],\n",
    "        'Album Name': [music_df.loc[music_df['Track Name'] == input_song_name, 'Album Name'].values[0]],\n",
    "        'Release Date': [music_df.loc[music_df['Track Name'] == input_song_name, 'Release Date'].values[0]],\n",
    "        'Popularity': [weighted_popularity_score]\n",
    "    }\n",
    "    input_song_df = pd.DataFrame(input_song_data)\n",
    "\n",
    "    # Concatenate the input song DataFrame with content-based recommendations\n",
    "    hybrid_recommendations = pd.concat([content_based_rec, input_song_df], ignore_index=True)\n",
    "\n",
    "    # Sort the hybrid recommendations based on weighted popularity score\n",
    "    hybrid_recommendations = hybrid_recommendations.sort_values(by='Popularity', ascending=False)\n",
    "\n",
    "    # Remove the input song from the recommendations\n",
    "    hybrid_recommendations = hybrid_recommendations[hybrid_recommendations['Track Name'] != input_song_name]\n",
    "\n",
    "    return hybrid_recommendations"
   ]
  },
  {
   "cell_type": "code",
   "execution_count": 29,
   "metadata": {
    "execution": {
     "iopub.execute_input": "2024-06-29T07:28:22.817189Z",
     "iopub.status.busy": "2024-06-29T07:28:22.816200Z",
     "iopub.status.idle": "2024-06-29T07:28:22.835910Z",
     "shell.execute_reply": "2024-06-29T07:28:22.834777Z",
     "shell.execute_reply.started": "2024-06-29T07:28:22.817145Z"
    },
    "trusted": true
   },
   "outputs": [
    {
     "name": "stdout",
     "output_type": "stream",
     "text": [
      "Hybrid recommended songs for 'Oka Maaru':\n",
      "         Track Name                           Artists                                     Album Name Release Date  Popularity\n",
      "      Nenu Nuvvantu  Naresh Iyer, Nadeesh, U.V.Jackey                                         Orange   2010-10-25        62.0\n",
      "     Oh Priya Priya          Adnan Sami, Nithya Menon                                           Ishq   2012-02-03        54.0\n",
      "   Colorful Chilaka              Narendra Doddapaneni                                   Express Raja   2015-12-19        50.0\n",
      "            Allegro Devi Sri Prasad, Rita Thyagarajan  Mallanna (Original Motion Picture Soundtrack)   2009-05-11        45.0\n",
      "Olammi Tikkareginda            NTR Jr, Mamta Mohandas Yamadonga (Original Motion Picture Soundtrack)   2007-07-14        40.0\n"
     ]
    }
   ],
   "source": [
    "input_song_name = \"Oka Maaru\"\n",
    "recommendations = hybrid_recommendations(input_song_name, num_recommendations=5)\n",
    "\n",
    "if not recommendations.empty:\n",
    "    print(f\"Hybrid recommended songs for '{input_song_name}':\")\n",
    "    print(recommendations.to_string(index=False))\n",
    "else:\n",
    "    print(\"No recommendations found.\")"
   ]
  },
  {
   "cell_type": "code",
   "execution_count": null,
   "metadata": {},
   "outputs": [],
   "source": []
  }
 ],
 "metadata": {
  "kaggle": {
   "accelerator": "none",
   "dataSources": [],
   "dockerImageVersionId": 30732,
   "isGpuEnabled": false,
   "isInternetEnabled": true,
   "language": "python",
   "sourceType": "notebook"
  },
  "kernelspec": {
   "display_name": "Python 3",
   "language": "python",
   "name": "python3"
  },
  "language_info": {
   "codemirror_mode": {
    "name": "ipython",
    "version": 3
   },
   "file_extension": ".py",
   "mimetype": "text/x-python",
   "name": "python",
   "nbconvert_exporter": "python",
   "pygments_lexer": "ipython3",
   "version": "3.10.13"
  }
 },
 "nbformat": 4,
 "nbformat_minor": 4
}
